{
 "cells": [
  {
   "cell_type": "code",
   "execution_count": 1,
   "metadata": {
    "collapsed": true
   },
   "outputs": [],
   "source": [
    "import math\n",
    "from scipy.stats import norm\n",
    "import matplotlib.pyplot as plt\n",
    "import matplotlib.mlab as mlab\n",
    "%matplotlib inline\n",
    "import numpy as np\n",
    "import pylab\n",
    "pylab.rcParams['figure.figsize']=10,10"
   ]
  },
  {
   "cell_type": "code",
   "execution_count": 2,
   "metadata": {
    "collapsed": true
   },
   "outputs": [],
   "source": [
    "#I want a function that asks for threshold, number of pmts, and array, and spits out the efficiency\n",
    "def FindEfficiency(threshold,numPmts,binom_array):\n",
    "    pmt_array = binom_array[:,:-1] \n",
    "    #Creates a 2-D True-False array for pmts that crosses threshold\n",
    "    pmt_greater_than_Nphe = pmt_array>threshold \n",
    "    total_pmtsper_event_greater_than_Nphe = np.sum(pmt_greater_than_Nphe,axis=1)\n",
    "    #Creates 1-D True-False array for events that have enough pmts that cross threshold\n",
    "    isItaHit = total_pmtsper_event_greater_than_Nphe>=numPmts \n",
    "    totalnumberofhits = np.sum(isItaHit,axis=0)           \n",
    "    totalnumberofevents=np.shape(pmt_array)[0]\n",
    "\n",
    "    confidence_interval = .95\n",
    "    z = 1- (1-confidence_interval)/2\n",
    "    n=totalnumberofevents\n",
    "    n_s=totalnumberofhits\n",
    "    p_hat = n_s/n\n",
    "    #Wilson Score Interval method for binomial confidence interval\n",
    "    p=(p_hat+z**2/(2*n))/(1+z**2/n)\n",
    "    p_err=z/(1+z**2/n)*np.sqrt((p_hat*(1-p_hat)/n)+(z**2/(4*n**2)))\n",
    "    efficiencyPercent=p*100\n",
    "    yerr=p_err*100\n",
    "    \n",
    "    return efficiencyPercent,yerr,totalnumberofevents"
   ]
  },
  {
   "cell_type": "code",
   "execution_count": 3,
   "metadata": {
    "collapsed": true
   },
   "outputs": [],
   "source": [
    "def printEfficiencyTwikiTable(filename):\n",
    "    #I want to take a filename, and spit out a table of efficiencies\n",
    "    #Printed in this format for Twiki\n",
    "    pmt_array = np.genfromtxt(filename,delimiter=',') #This is a 2-D array.\n",
    "    qm_efficiency=0.3\n",
    "    binom_array = np.zeros(shape=(np.shape(pmt_array)[0],np.shape(pmt_array)[1]))\n",
    "    for i in range (0,np.shape(pmt_array)[0]):\n",
    "        for j in range(0,np.shape(pmt_array)[1]): \n",
    "            y = pmt_array[i][j]\n",
    "            x = np.random.binomial(y,qm_efficiency)\n",
    "            binom_array[i][j]=x\n",
    "    numevents=FindEfficiency(1,1,binom_array)[2]\n",
    "    print(\"|numevents\",numevents, \", binom applied| | ||\")\n",
    "    print(\"| ^ | Threshold=3phe | Threshold=4phe |Threshold=5phe||\")\n",
    "    pmt_array=[1,2,3,4,5,50];       threshold_array=[3,4,5]\n",
    "    pmtmax=np.shape(pmt_array)[0];  thresholdmax=np.shape(threshold_array)[0]\n",
    "    val = np.zeros((np.shape(pmt_array)[0], np.shape(threshold_array)[0]))\n",
    "    err = np.zeros((np.shape(pmt_array)[0], np.shape(threshold_array)[0]))\n",
    "    for pmt in range(0,pmtmax):\n",
    "        for threshold in range(0,thresholdmax): \n",
    "            val[pmt][threshold]=round(FindEfficiency(threshold_array[threshold],pmt_array[pmt],binom_array)[0],1)\n",
    "            err[pmt][threshold]=round(FindEfficiency(threshold_array[threshold],pmt_array[pmt],binom_array)[1],1)\n",
    "    print(\"| 1Pmt |\",val[0][0],\"% +/-\",err[0][0],\"%| \",val[0][1],\"% +/-\",err[0][1],\"%|\",val[0][2],\"%+/-\",err[0][2],\"%|\")\n",
    "    print(\"| 2Pmts |\",val[1][0],\"% +/-\",err[1][0],\"%| \",val[1][1],\"% +/-\",err[1][1],\"%|\",val[1][2],\"%+/-\",err[1][2],\"%|\")\n",
    "    print(\"| 3Pmts | \",val[2][0],\"% +/-\",err[2][0],\"%| \",val[2][1],\"% +/-\",err[2][1],\"%|\",val[2][2],\"%+/-\",err[2][2],\"%|\")\n",
    "    print(\"| 4Pmts | \",val[3][0],\"% +/-\",err[3][0],\"%| \",val[3][1],\"% +/-\",err[3][1],\"%|\",val[3][2],\"%+/-\",err[3][2],\"%|\")\n",
    "    print(\"| 5Pmts | \",val[4][0],\"% +/-\",err[4][0],\"%| \",val[4][1],\"% +/-\",err[4][1],\"%|\",val[4][2],\"%+/-\",err[4][2],\"%|\")\n",
    "    #print(\"| 50Pmts | \",val[5][0],\"% +/-\",err[5][0],\"%| \",val[5][1],\"% +/-\",err[5][1],\"%|\",val[5][2],\"%+/-\",err[5][2],\"%|\")\n",
    "    print(\"\\n\")\n",
    "    return 0"
   ]
  },
  {
   "cell_type": "code",
   "execution_count": 40,
   "metadata": {
    "collapsed": false
   },
   "outputs": [
    {
     "name": "stdout",
     "output_type": "stream",
     "text": [
      "|numevents 23776 , binom applied| | ||\n",
      "| ^ | Threshold=3phe | Threshold=4phe |Threshold=5phe||\n",
      "| 1Pmt | 97.2 % +/- 0.1 %|  97.2 % +/- 0.1 %| 97.0 %+/- 0.1 %|\n",
      "| 2Pmts | 97.1 % +/- 0.1 %|  96.1 % +/- 0.1 %| 93.7 %+/- 0.2 %|\n",
      "| 3Pmts |  96.1 % +/- 0.1 %|  92.4 % +/- 0.2 %| 87.9 %+/- 0.2 %|\n",
      "| 4Pmts |  92.9 % +/- 0.2 %|  86.8 % +/- 0.2 %| 83.0 %+/- 0.2 %|\n",
      "| 5Pmts |  88.2 % +/- 0.2 %|  82.7 % +/- 0.2 %| 79.0 %+/- 0.3 %|\n",
      "\n",
      "\n"
     ]
    },
    {
     "data": {
      "text/plain": [
       "0"
      ]
     },
     "execution_count": 40,
     "metadata": {},
     "output_type": "execute_result"
    }
   ],
   "source": [
    "#10Gev\n",
    "filename='/home/christina/LZSim/bin_files/WIMPs_10Gev/20180221_wimp_9filescombined_10Gev_phot.csv'\n",
    "printEfficiencyTwikiTable(filename)\n"
   ]
  },
  {
   "cell_type": "code",
   "execution_count": 29,
   "metadata": {
    "collapsed": false
   },
   "outputs": [
    {
     "name": "stdout",
     "output_type": "stream",
     "text": [
      "|numevents 7086 , binom applied| | ||\n",
      "| ^ | Threshold=3phe | Threshold=4phe |Threshold=5phe||\n",
      "| 1Pmt | 99.2 % +/- 0.1 %|  99.1 % +/- 0.1 %| 99.0 %+/- 0.1 %|\n",
      "| 2Pmts | 99.1 % +/- 0.1 %|  98.9 % +/- 0.1 %| 98.7 %+/- 0.1 %|\n",
      "| 3Pmts |  99.0 % +/- 0.1 %|  98.6 % +/- 0.1 %| 98.3 %+/- 0.1 %|\n",
      "| 4Pmts |  98.8 % +/- 0.1 %|  98.3 % +/- 0.2 %| 97.9 %+/- 0.2 %|\n",
      "| 5Pmts |  98.5 % +/- 0.1 %|  98.0 % +/- 0.2 %| 97.6 %+/- 0.2 %|\n",
      "| 50Pmts |  89.5 % +/- 0.4 %|  85.4 % +/- 0.4 %| 80.8 %+/- 0.5 %|\n",
      "\n",
      "\n"
     ]
    },
    {
     "data": {
      "text/plain": [
       "0"
      ]
     },
     "execution_count": 29,
     "metadata": {},
     "output_type": "execute_result"
    }
   ],
   "source": [
    "#100Gev\n",
    "filename='/home/christina/LZSim/bin_files/WIMPs_100Gev/20180221_wimp_2filescombined_100Gev_phot.csv'\n",
    "printEfficiencyTwikiTable(filename)"
   ]
  },
  {
   "cell_type": "code",
   "execution_count": 30,
   "metadata": {
    "collapsed": false
   },
   "outputs": [
    {
     "name": "stdout",
     "output_type": "stream",
     "text": [
      "|numevents 3099 , binom applied| | ||\n",
      "| ^ | Threshold=3phe | Threshold=4phe |Threshold=5phe||\n",
      "| 1Pmt | 99.6 % +/- 0.1 %|  99.5 % +/- 0.1 %| 99.3 %+/- 0.1 %|\n",
      "| 2Pmts | 99.6 % +/- 0.1 %|  99.4 % +/- 0.1 %| 99.2 %+/- 0.2 %|\n",
      "| 3Pmts |  99.6 % +/- 0.1 %|  99.3 % +/- 0.1 %| 99.1 %+/- 0.2 %|\n",
      "| 4Pmts |  99.4 % +/- 0.1 %|  99.2 % +/- 0.2 %| 98.9 %+/- 0.2 %|\n",
      "| 5Pmts |  99.3 % +/- 0.1 %|  99.0 % +/- 0.2 %| 98.7 %+/- 0.2 %|\n",
      "| 50Pmts |  94.3 % +/- 0.4 %|  91.1 % +/- 0.5 %| 88.0 %+/- 0.6 %|\n",
      "\n",
      "\n"
     ]
    },
    {
     "data": {
      "text/plain": [
       "0"
      ]
     },
     "execution_count": 30,
     "metadata": {},
     "output_type": "execute_result"
    }
   ],
   "source": [
    "#1000Gev\n",
    "filename='/home/christina/LZSim/bin_files/WIMPs_1000Gev/20180221_wimp_9filescombined_1000Gev_phot.csv'\n",
    "printEfficiencyTwikiTable(filename)"
   ]
  },
  {
   "cell_type": "code",
   "execution_count": 27,
   "metadata": {
    "collapsed": false
   },
   "outputs": [
    {
     "name": "stdout",
     "output_type": "stream",
     "text": [
      "|numevents 9924 , binom applied| | ||\n",
      "| ^ | Threshold=3phe | Threshold=4phe |Threshold=5phe||\n",
      "| 1Pmt | 100.0 % +/- 0.0 %|  99.9 % +/- 0.0 %| 99.0 %+/- 0.1 %|\n",
      "| 2Pmts | 96.8 % +/- 0.2 %|  80.0 % +/- 0.4 %| 51.0 %+/- 0.5 %|\n",
      "| 3Pmts |  82.3 % +/- 0.4 %|  43.4 % +/- 0.5 %| 14.6 %+/- 0.3 %|\n",
      "| 4Pmts |  54.7 % +/- 0.5 %|  14.9 % +/- 0.3 %| 2.3 %+/- 0.1 %|\n",
      "| 5Pmts |  25.9 % +/- 0.4 %|  3.3 % +/- 0.2 %| 0.2 %+/- 0.0 %|\n",
      "| 50Pmts |  0.0 % +/- 0.0 %|  0.0 % +/- 0.0 %| 0.0 %+/- 0.0 %|\n",
      "\n",
      "\n"
     ]
    },
    {
     "data": {
      "text/plain": [
       "0"
      ]
     },
     "execution_count": 27,
     "metadata": {},
     "output_type": "execute_result"
    }
   ],
   "source": [
    "#Center\n",
    "filename='/home/christina/LZSim/bin_files/Center/20180228_Center_2filescombined_10000events_z1456mm_photocathode.csv'\n",
    "printEfficiencyTwikiTable(filename)"
   ]
  },
  {
   "cell_type": "code",
   "execution_count": 31,
   "metadata": {
    "collapsed": false
   },
   "outputs": [
    {
     "name": "stdout",
     "output_type": "stream",
     "text": [
      "|numevents 9918 , binom applied| | ||\n",
      "| ^ | Threshold=3phe | Threshold=4phe |Threshold=5phe||\n",
      "| 1Pmt | 100.0 % +/- 0.0 %|  99.7 % +/- 0.1 %| 97.7 %+/- 0.1 %|\n",
      "| 2Pmts | 99.3 % +/- 0.1 %|  94.8 % +/- 0.2 %| 81.1 %+/- 0.4 %|\n",
      "| 3Pmts |  92.7 % +/- 0.3 %|  70.5 % +/- 0.4 %| 41.0 %+/- 0.5 %|\n",
      "| 4Pmts |  62.7 % +/- 0.5 %|  23.2 % +/- 0.4 %| 5.1 %+/- 0.2 %|\n",
      "| 5Pmts |  26.0 % +/- 0.4 %|  3.2 % +/- 0.2 %| 0.2 %+/- 0.0 %|\n",
      "| 50Pmts |  0.0 % +/- 0.0 %|  0.0 % +/- 0.0 %| 0.0 %+/- 0.0 %|\n",
      "\n",
      "\n"
     ]
    },
    {
     "data": {
      "text/plain": [
       "0"
      ]
     },
     "execution_count": 31,
     "metadata": {},
     "output_type": "execute_result"
    }
   ],
   "source": [
    "#Bet 3 PMTs\n",
    "filename='/home/christina/LZSim/bin_files/Bet3PMTs/20180228_Bet3pmts_2filescombined_10000events_z1456mm_photocathode.csv'\n",
    "printEfficiencyTwikiTable(filename)"
   ]
  },
  {
   "cell_type": "code",
   "execution_count": 32,
   "metadata": {
    "collapsed": false
   },
   "outputs": [
    {
     "name": "stdout",
     "output_type": "stream",
     "text": [
      "|numevents 9911 , binom applied| | ||\n",
      "| ^ | Threshold=3phe | Threshold=4phe |Threshold=5phe||\n",
      "| 1Pmt | 100.0 % +/- 0.0 %|  99.8 % +/- 0.0 %| 98.9 %+/- 0.1 %|\n",
      "| 2Pmts | 96.8 % +/- 0.2 %|  80.0 % +/- 0.4 %| 51.5 %+/- 0.5 %|\n",
      "| 3Pmts |  82.3 % +/- 0.4 %|  44.1 % +/- 0.5 %| 15.3 %+/- 0.4 %|\n",
      "| 4Pmts |  54.4 % +/- 0.5 %|  15.6 % +/- 0.4 %| 2.5 %+/- 0.2 %|\n",
      "| 5Pmts |  26.4 % +/- 0.4 %|  3.5 % +/- 0.2 %| 0.2 %+/- 0.0 %|\n",
      "| 50Pmts |  0.0 % +/- 0.0 %|  0.0 % +/- 0.0 %| 0.0 %+/- 0.0 %|\n",
      "\n",
      "\n"
     ]
    },
    {
     "data": {
      "text/plain": [
       "0"
      ]
     },
     "execution_count": 32,
     "metadata": {},
     "output_type": "execute_result"
    }
   ],
   "source": [
    "#1 electron\n",
    "filename='/home/christina/LZSim/bin_files/NumberLiquidElectrons/20171205_1liquidelectron_Random_10000events_z145p6cm_543696148.csv'\n",
    "printEfficiencyTwikiTable(filename)"
   ]
  },
  {
   "cell_type": "code",
   "execution_count": 33,
   "metadata": {
    "collapsed": false
   },
   "outputs": [
    {
     "name": "stdout",
     "output_type": "stream",
     "text": [
      "|numevents 9915 , binom applied| | ||\n",
      "| ^ | Threshold=3phe | Threshold=4phe |Threshold=5phe||\n",
      "| 1Pmt | 100.0 % +/- 0.0 %|  100.0 % +/- 0.0 %| 100.0 %+/- 0.0 %|\n",
      "| 2Pmts | 100.0 % +/- 0.0 %|  99.9 % +/- 0.0 %| 99.5 %+/- 0.1 %|\n",
      "| 3Pmts |  99.9 % +/- 0.0 %|  99.5 % +/- 0.1 %| 97.1 %+/- 0.2 %|\n",
      "| 4Pmts |  99.6 % +/- 0.1 %|  98.0 % +/- 0.1 %| 88.0 %+/- 0.3 %|\n",
      "| 5Pmts |  99.1 % +/- 0.1 %|  91.6 % +/- 0.3 %| 66.0 %+/- 0.5 %|\n",
      "| 50Pmts |  0.0 % +/- 0.0 %|  0.0 % +/- 0.0 %| 0.0 %+/- 0.0 %|\n",
      "\n",
      "\n"
     ]
    },
    {
     "data": {
      "text/plain": [
       "0"
      ]
     },
     "execution_count": 33,
     "metadata": {},
     "output_type": "execute_result"
    }
   ],
   "source": [
    "#2 electrons\n",
    "filename='/home/christina/LZSim/bin_files/NumberLiquidElectrons/20171121_2liquidelectrons_Random_10000events_z145p6cm_2046989382.csv'\n",
    "printEfficiencyTwikiTable(filename)"
   ]
  },
  {
   "cell_type": "code",
   "execution_count": 34,
   "metadata": {
    "collapsed": false
   },
   "outputs": [
    {
     "name": "stdout",
     "output_type": "stream",
     "text": [
      "|numevents 9914 , binom applied| | ||\n",
      "| ^ | Threshold=3phe | Threshold=4phe |Threshold=5phe||\n",
      "| 1Pmt | 100.0 % +/- 0.0 %|  100.0 % +/- 0.0 %| 100.0 %+/- 0.0 %|\n",
      "| 2Pmts | 99.9 % +/- 0.0 %|  99.8 % +/- 0.0 %| 99.6 %+/- 0.1 %|\n",
      "| 3Pmts |  99.8 % +/- 0.0 %|  99.6 % +/- 0.1 %| 99.2 %+/- 0.1 %|\n",
      "| 4Pmts |  99.6 % +/- 0.1 %|  99.2 % +/- 0.1 %| 99.1 %+/- 0.1 %|\n",
      "| 5Pmts |  99.3 % +/- 0.1 %|  99.0 % +/- 0.1 %| 98.6 %+/- 0.1 %|\n",
      "| 50Pmts |  0.0 % +/- 0.0 %|  0.0 % +/- 0.0 %| 0.0 %+/- 0.0 %|\n",
      "\n",
      "\n"
     ]
    },
    {
     "data": {
      "text/plain": [
       "0"
      ]
     },
     "execution_count": 34,
     "metadata": {},
     "output_type": "execute_result"
    }
   ],
   "source": [
    "#3 electrons\n",
    "filename='/home/christina/LZSim/bin_files/NumberLiquidElectrons/20171121_3liquidelectrons_Random_10000events_z145p6cm_859809301.csv'\n",
    "printEfficiencyTwikiTable(filename)"
   ]
  },
  {
   "cell_type": "code",
   "execution_count": 37,
   "metadata": {
    "collapsed": false
   },
   "outputs": [
    {
     "name": "stdout",
     "output_type": "stream",
     "text": [
      "|numevents 9917 , binom applied| | ||\n",
      "| ^ | Threshold=3phe | Threshold=4phe |Threshold=5phe||\n",
      "| 1Pmt | 100.0 % +/- 0.0 %|  99.8 % +/- 0.0 %| 99.0 %+/- 0.1 %|\n",
      "| 2Pmts | 96.6 % +/- 0.2 %|  80.4 % +/- 0.4 %| 51.6 %+/- 0.5 %|\n",
      "| 3Pmts |  82.8 % +/- 0.4 %|  44.3 % +/- 0.5 %| 14.5 %+/- 0.3 %|\n",
      "| 4Pmts |  55.0 % +/- 0.5 %|  15.7 % +/- 0.4 %| 2.3 %+/- 0.1 %|\n",
      "| 5Pmts |  26.4 % +/- 0.4 %|  3.6 % +/- 0.2 %| 0.2 %+/- 0.0 %|\n",
      "\n",
      "\n"
     ]
    },
    {
     "data": {
      "text/plain": [
       "0"
      ]
     },
     "execution_count": 37,
     "metadata": {},
     "output_type": "execute_result"
    }
   ],
   "source": [
    "#Ring at origin\n",
    "filename='/home/christina/LZSim/bin_files/Rings_equalarea/20171110_Ring0_0cm_10cm_Random_10000events_z145p6cm1729418141_pmt_phot.csv'\n",
    "printEfficiencyTwikiTable(filename)"
   ]
  },
  {
   "cell_type": "code",
   "execution_count": 38,
   "metadata": {
    "collapsed": false
   },
   "outputs": [
    {
     "name": "stdout",
     "output_type": "stream",
     "text": [
      "|numevents 9918 , binom applied| | ||\n",
      "| ^ | Threshold=3phe | Threshold=4phe |Threshold=5phe||\n",
      "| 1Pmt | 100.0 % +/- 0.0 %|  99.8 % +/- 0.0 %| 98.9 %+/- 0.1 %|\n",
      "| 2Pmts | 96.8 % +/- 0.2 %|  79.9 % +/- 0.4 %| 51.7 %+/- 0.5 %|\n",
      "| 3Pmts |  82.6 % +/- 0.4 %|  43.3 % +/- 0.5 %| 14.3 %+/- 0.3 %|\n",
      "| 4Pmts |  54.3 % +/- 0.5 %|  14.7 % +/- 0.3 %| 2.4 %+/- 0.1 %|\n",
      "| 5Pmts |  25.5 % +/- 0.4 %|  3.2 % +/- 0.2 %| 0.2 %+/- 0.0 %|\n",
      "\n",
      "\n"
     ]
    },
    {
     "data": {
      "text/plain": [
       "0"
      ]
     },
     "execution_count": 38,
     "metadata": {},
     "output_type": "execute_result"
    }
   ],
   "source": [
    "#Ring in middle\n",
    "filename='/home/christina/LZSim/bin_files/Rings_equalarea/20171115_Ring25_50cm_51cm_Random_10000events_z145p6cm433973049.csv'\n",
    "printEfficiencyTwikiTable(filename)"
   ]
  },
  {
   "cell_type": "code",
   "execution_count": 39,
   "metadata": {
    "collapsed": false
   },
   "outputs": [
    {
     "name": "stdout",
     "output_type": "stream",
     "text": [
      "|numevents 9907 , binom applied| | ||\n",
      "| ^ | Threshold=3phe | Threshold=4phe |Threshold=5phe||\n",
      "| 1Pmt | 100.0 % +/- 0.0 %|  99.8 % +/- 0.0 %| 99.1 %+/- 0.1 %|\n",
      "| 2Pmts | 96.9 % +/- 0.2 %|  81.0 % +/- 0.4 %| 51.5 %+/- 0.5 %|\n",
      "| 3Pmts |  82.9 % +/- 0.4 %|  43.6 % +/- 0.5 %| 13.8 %+/- 0.3 %|\n",
      "| 4Pmts |  55.4 % +/- 0.5 %|  15.6 % +/- 0.4 %| 2.1 %+/- 0.1 %|\n",
      "| 5Pmts |  26.4 % +/- 0.4 %|  3.2 % +/- 0.2 %| 0.2 %+/- 0.0 %|\n",
      "\n",
      "\n"
     ]
    },
    {
     "data": {
      "text/plain": [
       "0"
      ]
     },
     "execution_count": 39,
     "metadata": {},
     "output_type": "execute_result"
    }
   ],
   "source": [
    "#Ring toward end\n",
    "filename='/home/christina/LZSim/bin_files/Rings_equalarea/20171113_Ring48_69p3cm_70cm_Random_10000events_z145p6cm893866138.csv'\n",
    "printEfficiencyTwikiTable(filename)"
   ]
  },
  {
   "cell_type": "code",
   "execution_count": 4,
   "metadata": {
    "collapsed": false
   },
   "outputs": [
    {
     "name": "stdout",
     "output_type": "stream",
     "text": [
      "|numevents 6451 , binom applied| | ||\n",
      "| ^ | Threshold=3phe | Threshold=4phe |Threshold=5phe||\n",
      "| 1Pmt | 97.2 % +/- 0.2 %|  97.2 % +/- 0.2 %| 97.0 %+/- 0.2 %|\n",
      "| 2Pmts | 97.1 % +/- 0.2 %|  96.2 % +/- 0.2 %| 93.9 %+/- 0.3 %|\n",
      "| 3Pmts |  96.0 % +/- 0.2 %|  92.3 % +/- 0.3 %| 88.2 %+/- 0.4 %|\n",
      "| 4Pmts |  93.2 % +/- 0.3 %|  87.0 % +/- 0.4 %| 83.1 %+/- 0.5 %|\n",
      "| 5Pmts |  88.2 % +/- 0.4 %|  83.0 % +/- 0.5 %| 79.0 %+/- 0.5 %|\n",
      "\n",
      "\n"
     ]
    },
    {
     "data": {
      "text/plain": [
       "0"
      ]
     },
     "execution_count": 4,
     "metadata": {},
     "output_type": "execute_result"
    }
   ],
   "source": [
    "#wimps, 10Gev, S2\n",
    "filename='/home/christina/LZSim/bin_files/20180410_wimp_10filescombined_10Gev_phot_S2.csv'\n",
    "printEfficiencyTwikiTable(filename)"
   ]
  },
  {
   "cell_type": "code",
   "execution_count": 5,
   "metadata": {
    "collapsed": false
   },
   "outputs": [
    {
     "name": "stdout",
     "output_type": "stream",
     "text": [
      "|numevents 8568 , binom applied| | ||\n",
      "| ^ | Threshold=3phe | Threshold=4phe |Threshold=5phe||\n",
      "| 1Pmt | 99.0 % +/- 0.1 %|  99.0 % +/- 0.1 %| 99.0 %+/- 0.1 %|\n",
      "| 2Pmts | 99.0 % +/- 0.1 %|  99.0 % +/- 0.1 %| 98.7 %+/- 0.1 %|\n",
      "| 3Pmts |  99.0 % +/- 0.1 %|  98.7 % +/- 0.1 %| 98.2 %+/- 0.1 %|\n",
      "| 4Pmts |  98.7 % +/- 0.1 %|  98.2 % +/- 0.1 %| 97.8 %+/- 0.2 %|\n",
      "| 5Pmts |  98.2 % +/- 0.1 %|  97.7 % +/- 0.2 %| 97.3 %+/- 0.2 %|\n",
      "\n",
      "\n"
     ]
    },
    {
     "data": {
      "text/plain": [
       "0"
      ]
     },
     "execution_count": 5,
     "metadata": {},
     "output_type": "execute_result"
    }
   ],
   "source": [
    "#wimps, 100Gev, S2\n",
    "filename='/home/christina/LZSim/bin_files/20180410_wimp_10filescombined_100Gev_phot_S2.csv'\n",
    "printEfficiencyTwikiTable(filename)"
   ]
  },
  {
   "cell_type": "code",
   "execution_count": null,
   "metadata": {
    "collapsed": true
   },
   "outputs": [],
   "source": []
  }
 ],
 "metadata": {
  "kernelspec": {
   "display_name": "Python 3",
   "language": "python",
   "name": "python3"
  },
  "language_info": {
   "codemirror_mode": {
    "name": "ipython",
    "version": 3
   },
   "file_extension": ".py",
   "mimetype": "text/x-python",
   "name": "python",
   "nbconvert_exporter": "python",
   "pygments_lexer": "ipython3",
   "version": "3.4.5"
  }
 },
 "nbformat": 4,
 "nbformat_minor": 2
}
